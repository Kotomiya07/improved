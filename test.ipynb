{
 "cells": [
  {
   "cell_type": "code",
   "execution_count": 14,
   "id": "d9706f31",
   "metadata": {
    "collapsed": true,
    "jupyter": {
     "outputs_hidden": true
    }
   },
   "outputs": [
    {
     "name": "stdout",
     "output_type": "stream",
     "text": [
      "64 [1, 2, 2, 2] [16]\n",
      "GEN: <class 'score_sde.models.ncsnpp_generator_adagn.NCSNpp'>\n",
      "making attention of type 'vanilla' with 512 in_channels\n",
      "Working with z of shape (1, 3, 64, 64) = 12288 dimensions.\n",
      "making attention of type 'vanilla' with 512 in_channels\n",
      "/scratch/users/std/2021/21k0005/improved-ddgan/.venv/lib/python3.10/site-packages/torchvision/models/_utils.py:208: UserWarning: The parameter 'pretrained' is deprecated since 0.13 and may be removed in the future, please use 'weights' instead.\n",
      "  warnings.warn(\n",
      "/scratch/users/std/2021/21k0005/improved-ddgan/.venv/lib/python3.10/site-packages/torchvision/models/_utils.py:223: UserWarning: Arguments other than a weight enum or `None` for 'weights' are deprecated since 0.13 and may be removed in the future. The current behavior is equivalent to passing `weights=VGG16_Weights.IMAGENET1K_V1`. You can also use `weights=VGG16_Weights.DEFAULT` to get the most up-to-date weights.\n",
      "  warnings.warn(msg)\n",
      "loaded pretrained LPIPS loss from taming/modules/autoencoder/lpips/vgg.pth\n",
      "VQLPIPSWithDiscriminator running with hinge loss.\n",
      "['./wddgan_generated_samples/celeba_256/vq-f4-256/450', 'pytorch_fid/celebahq_stat.npy']\n",
      "/scratch/users/std/2021/21k0005/improved-ddgan/.venv/lib/python3.10/site-packages/torchvision/models/_utils.py:223: UserWarning: Arguments other than a weight enum or `None` for 'weights' are deprecated since 0.13 and may be removed in the future. The current behavior is equivalent to passing `weights=None`.\n",
      "  warnings.warn(msg)\n",
      "/scratch/users/std/2021/21k0005/improved-ddgan/.venv/lib/python3.10/site-packages/torch/utils/data/dataloader.py:558: UserWarning: This DataLoader will create 4 worker processes in total. Our suggested max number of worker in current system is 2, which is smaller than what this DataLoader is going to create. Please be aware that excessive worker creation might get DataLoader running slow or even freeze, lower the worker number to avoid potential slowness/freeze if necessary.\n",
      "  warnings.warn(_create_warning_msg(\n",
      "100%|█████████████████████████████████████████| 500/500 [00:56<00:00,  8.88it/s]\n",
      "FID = 6.047161905975514\n",
      "dataset: celeba_256, exp: vq-f4-256, epoch: 450, FID: 6.047161905975514\n"
     ]
    }
   ],
   "source": [
    "#@title celeba\n",
    "!python3 test_iddgan_celeba.py --dataset celeba_256 --image_size 256 --exp vq-f4-256 --epoch_id 450 --num_channels 3 \\\n",
    "            --num_channels_dae 128 --nz 100 --z_emb_dim 256  --ch_mult 1 2 2 2  --num_timesteps 2 --num_res_blocks 2 \\\n",
    "\t\t\t--current_resolution 64 --attn_resolutions 16 --n_mlp 4\\\n",
    "\t\t\t--AutoEncoder_config ./autoencoder/config/vq-f4.yaml \\\n",
    "\t\t\t--AutoEncoder_ckpt ./autoencoder/weight/vq-f4.ckpt \\\n",
    "\t\t\t--scale_factor 6.0 \\\n",
    "\t\t\t--batch_size 100 \\\n",
    "\t\t\t--compute_fid --real_img_dir pytorch_fid/celebahq_stat.npy "
   ]
  },
  {
   "cell_type": "code",
   "execution_count": null,
   "id": "61686445",
   "metadata": {},
   "outputs": [],
   "source": [
    "dataset: celeba_256, exp: vq-f4-256\n",
    "epoch: 450, FID: 6.047161905975514, Inference time(25 batch): 284.59+/-7.73ms, Inference time(1 batch): 38.62+/-9.04ms"
   ]
  },
  {
   "cell_type": "code",
   "execution_count": null,
   "id": "0f6512a2",
   "metadata": {},
   "outputs": [],
   "source": [
    "#@title measure time\n",
    "!python3 test_iddgan.py --dataset cifar10 --exp kl-f2-3 --epoch_id 1000 --num_channels 4 \\\n",
    "--num_channels_dae 128 --num_timesteps 4 --num_res_blocks 2 --nz 50 --z_emb_dim 256 \\\n",
    "--n_mlp 4 --ch_mult 1 2 2 --image_size 32 --current_resolution 16 --attn_resolutions 32 \\\n",
    "--scale_factor 105.0 --AutoEncoder_config autoencoder/config/kl-f2.yaml --AutoEncoder_ckpt autoencoder/weight/kl-f2.ckpt \\\n",
    "--batch_size 1 --measure_time --real_img_dir pytorch_fid/cifar10_train_stat.npy "
   ]
  },
  {
   "cell_type": "code",
   "execution_count": null,
   "id": "b1e53814",
   "metadata": {},
   "outputs": [],
   "source": [
    "dataset: cifar10, exp: kl-f2-4\n",
    "epoch: 1000, FID: 7.7001933186085125\n",
    "epoch: 1100, FID: 8.0272711865656\n",
    "epoch: 1200, FID: 6.965406890685074\n",
    "epoch: 1300, FID: 6.598469487399484\n",
    "epoch: 1400, FID: 6.768142054723569\n",
    "epoch: 1500, FID: 7.725290379167632\n",
    "epoch: 1600, FID: 7.246898416778038\n",
    "epoch: 1700, FID: 5.802342498145208\n",
    "epoch: 1800, FID: 5.1142740723743145\n",
    "epoch: 1900, FID: 5.206752817940014\n",
    "epoch: 2000, FID: 6.167359469434132"
   ]
  },
  {
   "cell_type": "code",
   "execution_count": 1,
   "id": "55fdd5bf",
   "metadata": {
    "collapsed": true,
    "jupyter": {
     "outputs_hidden": true
    }
   },
   "outputs": [
    {
     "name": "stdout",
     "output_type": "stream",
     "text": [
      "16 [1, 2, 2] [32]\n",
      "GEN: <class 'score_sde.models.ncsnpp_generator_adagn.NCSNpp'>\n",
      "making attention of type 'vanilla' with 256 in_channels\n",
      "making attention of type 'vanilla' with 256 in_channels\n",
      "making attention of type 'vanilla' with 256 in_channels\n",
      "Working with z of shape (1, 4, 16, 16) = 1024 dimensions.\n",
      "making attention of type 'vanilla' with 256 in_channels\n",
      "making attention of type 'vanilla' with 256 in_channels\n",
      "making attention of type 'vanilla' with 256 in_channels\n",
      "making attention of type 'vanilla' with 256 in_channels\n",
      "/home/users/std/2021/21k0005/anaconda3/envs/iddgan/lib/python3.10/site-packages/torchvision/models/_utils.py:208: UserWarning: The parameter 'pretrained' is deprecated since 0.13 and may be removed in the future, please use 'weights' instead.\n",
      "  warnings.warn(\n",
      "/home/users/std/2021/21k0005/anaconda3/envs/iddgan/lib/python3.10/site-packages/torchvision/models/_utils.py:223: UserWarning: Arguments other than a weight enum or `None` for 'weights' are deprecated since 0.13 and may be removed in the future. The current behavior is equivalent to passing `weights=VGG16_Weights.IMAGENET1K_V1`. You can also use `weights=VGG16_Weights.DEFAULT` to get the most up-to-date weights.\n",
      "  warnings.warn(msg)\n",
      "loaded pretrained LPIPS loss from taming/modules/autoencoder/lpips/vgg.pth\n",
      "['./wddgan_generated_samples/cifar10/kl-f2-4/1300', 'pytorch_fid/cifar10_train_stat.npy']\n",
      "/home/users/std/2021/21k0005/anaconda3/envs/iddgan/lib/python3.10/site-packages/torchvision/models/_utils.py:223: UserWarning: Arguments other than a weight enum or `None` for 'weights' are deprecated since 0.13 and may be removed in the future. The current behavior is equivalent to passing `weights=None`.\n",
      "  warnings.warn(msg)\n",
      "/home/users/std/2021/21k0005/anaconda3/envs/iddgan/lib/python3.10/site-packages/torch/utils/data/dataloader.py:558: UserWarning: This DataLoader will create 4 worker processes in total. Our suggested max number of worker in current system is 2, which is smaller than what this DataLoader is going to create. Please be aware that excessive worker creation might get DataLoader running slow or even freeze, lower the worker number to avoid potential slowness/freeze if necessary.\n",
      "  warnings.warn(_create_warning_msg(\n",
      "100%|█████████████████████████████████████████| 500/500 [00:20<00:00, 23.96it/s]\n",
      "dataset: cifar10, exp: kl-f2-4, epoch: 1300, FID: 6.598469487399484\n",
      "Results are saved at samples_cifar10.jpg\n"
     ]
    }
   ],
   "source": [
    "#@title FID only\n",
    "!python3 test_iddgan.py --dataset cifar10 --exp kl-f2-4 --epoch_id 1300 --num_channels 4 \\\n",
    "--num_channels_dae 128 --num_timesteps 4 --num_res_blocks 2 --nz 50 --z_emb_dim 256 \\\n",
    "--n_mlp 4 --ch_mult 1 2 2 --image_size 32 --current_resolution 16 --attn_resolutions 32 \\\n",
    "--scale_factor 105.0 --AutoEncoder_config autoencoder/config/kl-f2.yaml --AutoEncoder_ckpt autoencoder/weight/kl-f2.ckpt \\\n",
    "--batch_size 250 --fid_only --real_img_dir pytorch_fid/cifar10_train_stat.npy "
   ]
  },
  {
   "cell_type": "code",
   "execution_count": null,
   "id": "c455127a",
   "metadata": {},
   "outputs": [],
   "source": [
    "dataset: cifar10, exp: sample2\n",
    "epoch: 1200, FID: 4.596893795093763\n",
    "epoch: 1300, FID: 4.565960743874825\n",
    "epoch: 1400, FID: 4.207413594023137\n",
    "epoch: 1400, FID: 4.207413594023137\n",
    "epoch: 1500, FID: 4.286120175686847\n",
    "\n",
    "epoch: 1650, FID: 4.1557128138709345\n",
    "epoch: 1685, FID: 3.9363023564689\n",
    "epoch: 1690, FID: 3.921084143927601\n",
    "epoch: 1695, FID: 3.93729335868602\n",
    "epoch: 1700, FID: 3.939955614526866"
   ]
  },
  {
   "cell_type": "code",
   "execution_count": 28,
   "id": "79a666d4",
   "metadata": {},
   "outputs": [
    {
     "name": "stdout",
     "output_type": "stream",
     "text": [
      "16 [1, 2, 2] [32]\n",
      "GEN: <class 'score_sde.models.ncsnpp_generator_adagn.NCSNpp'>\n",
      "Traceback (most recent call last):\n",
      "  File \"/scratch/users/std/2021/21k0005/improved-ddgan/test_iddgan.py\", line 308, in <module>\n",
      "    sample_and_test(args)\n",
      "  File \"/scratch/users/std/2021/21k0005/improved-ddgan/test_iddgan.py\", line 41, in sample_and_test\n",
      "    ckpt = torch.load('./saved_info/{}/{}/netG_{}.pth'.format(\n",
      "  File \"/home/users/std/2021/21k0005/anaconda3/envs/iddgan/lib/python3.10/site-packages/torch/serialization.py\", line 1005, in load\n",
      "    with _open_zipfile_reader(opened_file) as opened_zipfile:\n",
      "  File \"/home/users/std/2021/21k0005/anaconda3/envs/iddgan/lib/python3.10/site-packages/torch/serialization.py\", line 457, in __init__\n",
      "    super().__init__(torch._C.PyTorchFileReader(name_or_buffer))\n",
      "RuntimeError: PytorchStreamReader failed reading zip archive: failed finding central directory\n"
     ]
    }
   ],
   "source": [
    "#@title cumpute FID\n",
    "!python3 test_iddgan.py --dataset cifar10 --exp sample2 --epoch_id 1600 --num_channels 4 \\\n",
    "--num_channels_dae 128 --num_timesteps 4 --num_res_blocks 2 --nz 50 --z_emb_dim 256 \\\n",
    "--n_mlp 4 --ch_mult 1 2 2 --image_size 32 --current_resolution 16 --attn_resolutions 32 \\\n",
    "--scale_factor 105.0 --AutoEncoder_config autoencoder/config/kl-f2.yaml --AutoEncoder_ckpt autoencoder/weight/kl-f2.ckpt \\\n",
    "--batch_size 250 --compute_fid --real_img_dir pytorch_fid/cifar10_train_stat.npy "
   ]
  },
  {
   "cell_type": "code",
   "execution_count": null,
   "id": "b6871f16",
   "metadata": {},
   "outputs": [],
   "source": []
  },
  {
   "cell_type": "code",
   "execution_count": 6,
   "id": "fc2c13da",
   "metadata": {
    "collapsed": true,
    "jupyter": {
     "outputs_hidden": true
    }
   },
   "outputs": [
    {
     "name": "stdout",
     "output_type": "stream",
     "text": [
      "64 [1, 2, 2, 2] [16]\n",
      "GEN: <class 'score_sde.models.ncsnpp_generator_adagn.NCSNpp'>\n",
      "making attention of type 'vanilla' with 512 in_channels\n",
      "Working with z of shape (1, 3, 64, 64) = 12288 dimensions.\n",
      "making attention of type 'vanilla' with 512 in_channels\n",
      "/scratch/users/std/2021/21k0005/improved-ddgan/.venv/lib/python3.10/site-packages/torchvision/models/_utils.py:208: UserWarning: The parameter 'pretrained' is deprecated since 0.13 and may be removed in the future, please use 'weights' instead.\n",
      "  warnings.warn(\n",
      "/scratch/users/std/2021/21k0005/improved-ddgan/.venv/lib/python3.10/site-packages/torchvision/models/_utils.py:223: UserWarning: Arguments other than a weight enum or `None` for 'weights' are deprecated since 0.13 and may be removed in the future. The current behavior is equivalent to passing `weights=VGG16_Weights.IMAGENET1K_V1`. You can also use `weights=VGG16_Weights.DEFAULT` to get the most up-to-date weights.\n",
      "  warnings.warn(msg)\n",
      "loaded pretrained LPIPS loss from taming/modules/autoencoder/lpips/vgg.pth\n",
      "VQLPIPSWithDiscriminator running with hinge loss.\n",
      "['./wddgan_generated_samples/afhq_cat/vq-f4-256/400', 'data/afhq/train/cat']\n",
      "/scratch/users/std/2021/21k0005/improved-ddgan/.venv/lib/python3.10/site-packages/torchvision/models/_utils.py:223: UserWarning: Arguments other than a weight enum or `None` for 'weights' are deprecated since 0.13 and may be removed in the future. The current behavior is equivalent to passing `weights=None`.\n",
      "  warnings.warn(msg)\n",
      "/scratch/users/std/2021/21k0005/improved-ddgan/.venv/lib/python3.10/site-packages/torch/utils/data/dataloader.py:558: UserWarning: This DataLoader will create 4 worker processes in total. Our suggested max number of worker in current system is 2, which is smaller than what this DataLoader is going to create. Please be aware that excessive worker creation might get DataLoader running slow or even freeze, lower the worker number to avoid potential slowness/freeze if necessary.\n",
      "  warnings.warn(_create_warning_msg(\n",
      "100%|█████████████████████████████████████████| 500/500 [01:45<00:00,  4.75it/s]\n",
      "100%|███████████████████████████████████████████| 52/52 [00:40<00:00,  1.30it/s]\n",
      "FID = 22.459739544399042\n"
     ]
    }
   ],
   "source": [
    "!python3 test_iddgan_celeba.py --dataset afhq_cat --exp vq-f4-256 --epoch_id 400 --num_channels 3 \\\n",
    "--num_channels_dae 128 --num_timesteps 4 --num_res_blocks 2 --nz 100 --z_emb_dim 256 \\\n",
    "--n_mlp 4 --ch_mult 1 2 2 2 --image_size 256 --current_resolution 64 --attn_resolutions 16 \\\n",
    "--scale_factor 6.0 --AutoEncoder_config autoencoder/config/vq-f4.yaml --AutoEncoder_ckpt autoencoder/weight/vq-f4.ckpt \\\n",
    "--batch_size 50 --measure_time --compute_fid --real_img_dir data/afhq/train/cat"
   ]
  },
  {
   "cell_type": "code",
   "execution_count": null,
   "id": "1444ff04",
   "metadata": {},
   "outputs": [],
   "source": [
    "dataset: CIFAR10, exp: kl-f2, epoch:475, FID: 9.471584868250147"
   ]
  },
  {
   "cell_type": "code",
   "execution_count": null,
   "id": "53140c03",
   "metadata": {},
   "outputs": [],
   "source": [
    "dataset: cifar10, exp: kl-f2-2, epoch: 1000, FID: 5.449565416646351\n",
    "dataset: cifar10, exp: kl-f2-2, epoch: 1100, FID: 5.218899761556486\n",
    "dataset: cifar10, exp: kl-f2-2, epoch: 1200, FID: 4.695496785675118\n",
    "dataset: cifar10, exp: kl-f2-2, epoch: 1300, FID: 4.564839950266332\n",
    "dataset: cifar10, exp: kl-f2-2, epoch: 1400, FID: 4.5482688011948085\n",
    "dataset: cifar10, exp: kl-f2-2, epoch: 1500, FID: 4.59995502717527\n",
    "dataset: cifar10, exp: kl-f2-2, epoch: 1600, FID: 4.540297830066777\n",
    "dataset: cifar10, exp: kl-f2-2, epoch: 1650, FID: 4.57000753925297\n",
    "dataset: cifar10, exp: kl-f2-2, epoch: 1675, FID: 4.939058043092189\n",
    "dataset: cifar10, exp: kl-f2-2, epoch: 1700, FID: 4.3555737228003295, Inference time(batch 100): 301.88+/-70.94ms, Inference time(batch 1): 240.47+/-64.81ms, Inference time(batch 1000): 1179.33+/-54.45ms\n",
    "dataset: cifar10, exp: kl-f2-2, epoch: 1725, FID: 4.648243839433746\n",
    "dataset: cifar10, exp: kl-f2-2, epoch: 1750, FID: 5.364749508773798\n",
    "dataset: cifar10, exp: kl-f2-2, epoch: 1800, FID: 6.04712383350892\n",
    "dataset: cifar10, exp: kl-f2-2, epoch: 2000, FID: 8.840900641825328"
   ]
  },
  {
   "cell_type": "code",
   "execution_count": null,
   "id": "0bce4eba",
   "metadata": {},
   "outputs": [],
   "source": [
    "dataset: cifar10, exp: kl-f2-3, \n",
    "epoch: 1000, FID: 5.105137949359914\n",
    "epoch: 1100, FID: 5.0770264059576675\n",
    "epoch: 1200, FID: 4.96211908980996\n",
    "epoch: 1300, FID: 4.437076291003905\n",
    "epoch: 1400, FID: 5.160231192035496\n",
    "epoch: 1500, FID: 4.176725399173108\n",
    "epoch: 1525, FID: 4.17484843314071\n",
    "epoch: 1550, FID: 4.144169482670179\n",
    "epoch: 1575, FID: 4.0306193305124225\n",
    "epoch: 1600, FID: 4.030334598838294\n",
    "epoch: 1625, FID: 4.257021107989885\n",
    "epoch: 1650, FID: 4.2181519657891045\n",
    "epoch: 1700, FID: 4.550198534654214\n",
    "epoch: 1750, FID: 4.325918065430983\n",
    "epoch: 1775, FID: 4.073972311063983\n",
    "epoch: 1800, FID: 4.0148707295130635\n",
    "epoch: 1825, FID: 3.91055155030233 Inference time(100 batch): 59.71+/-6.66ms, Inference time(1 batch): 36.84+/-5.13ms\n",
    "epoch: 1850, FID: 3.9791375357232255\n",
    "epoch: 1900, FID: 4.031493533134892\n",
    "epoch: 2000, FID: 4.146907299500981"
   ]
  },
  {
   "cell_type": "code",
   "execution_count": null,
   "id": "df7fb7f9",
   "metadata": {},
   "outputs": [],
   "source": [
    "AFHQ-CAT vq-f4-256 epoch:400 FID = 22.459739544399042\n",
    "AFHQ-CAT vq-f4-256 epoch:500 FID = 21.64908864472619"
   ]
  },
  {
   "cell_type": "code",
   "execution_count": 8,
   "id": "f3a6282b",
   "metadata": {},
   "outputs": [
    {
     "name": "stdout",
     "output_type": "stream",
     "text": [
      "呼び出し中\n"
     ]
    },
    {
     "name": "stderr",
     "output_type": "stream",
     "text": [
      "/home/users/std/2021/21k0005/anaconda3/envs/iddgan/lib/python3.10/site-packages/torchvision/models/_utils.py:208: UserWarning: The parameter 'pretrained' is deprecated since 0.13 and may be removed in the future, please use 'weights' instead.\n",
      "  warnings.warn(\n",
      "/home/users/std/2021/21k0005/anaconda3/envs/iddgan/lib/python3.10/site-packages/torchvision/models/_utils.py:223: UserWarning: Arguments other than a weight enum or `None` for 'weights' are deprecated since 0.13 and may be removed in the future. The current behavior is equivalent to passing `weights=VGG16_Weights.IMAGENET1K_V1`. You can also use `weights=VGG16_Weights.DEFAULT` to get the most up-to-date weights.\n",
      "  warnings.warn(msg)\n",
      "/home/users/std/2021/21k0005/anaconda3/envs/iddgan/lib/python3.10/site-packages/torchvision/models/_utils.py:223: UserWarning: Arguments other than a weight enum or `None` for 'weights' are deprecated since 0.13 and may be removed in the future. The current behavior is equivalent to passing `weights=None`.\n",
      "  warnings.warn(msg)\n",
      "/home/users/std/2021/21k0005/anaconda3/envs/iddgan/lib/python3.10/site-packages/torch/utils/data/dataloader.py:558: UserWarning: This DataLoader will create 4 worker processes in total. Our suggested max number of worker in current system is 2, which is smaller than what this DataLoader is going to create. Please be aware that excessive worker creation might get DataLoader running slow or even freeze, lower the worker number to avoid potential slowness/freeze if necessary.\n",
      "  warnings.warn(_create_warning_msg(\n",
      "100%|██████████| 500/500 [00:34<00:00, 14.30it/s]\n"
     ]
    },
    {
     "name": "stdout",
     "output_type": "stream",
     "text": [
      "完了\n"
     ]
    }
   ],
   "source": [
    "import subprocess\n",
    "\n",
    "command = [\"bash\", \"iddgan_run.sh\", \"test\", \"cifar10-fid-only\", \"1\"]\n",
    "\n",
    "proc = subprocess.Popen(command, stdout=subprocess.PIPE)\n",
    "print(\"呼び出し中\")\n",
    "result = proc.communicate()[0].decode(\"utf-8\")\n",
    "print(\"完了\")"
   ]
  },
  {
   "cell_type": "code",
   "execution_count": null,
   "id": "bd968cd1",
   "metadata": {},
   "outputs": [],
   "source": []
  }
 ],
 "metadata": {
  "kernelspec": {
   "display_name": "iddgan",
   "language": "python",
   "name": "iddgan"
  },
  "language_info": {
   "codemirror_mode": {
    "name": "ipython",
    "version": 3
   },
   "file_extension": ".py",
   "mimetype": "text/x-python",
   "name": "python",
   "nbconvert_exporter": "python",
   "pygments_lexer": "ipython3",
   "version": "3.10.14"
  }
 },
 "nbformat": 4,
 "nbformat_minor": 5
}
