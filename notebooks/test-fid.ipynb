{
 "cells": [
  {
   "cell_type": "code",
   "execution_count": 13,
   "id": "9188bd30-ea02-4d85-b500-5e7d5c980b55",
   "metadata": {},
   "outputs": [
    {
     "name": "stdout",
     "output_type": "stream",
     "text": [
      "/home/users/std/2021/21k0005/improved-ddgan\n"
     ]
    },
    {
     "name": "stderr",
     "output_type": "stream",
     "text": [
      "/home/users/std/2021/21k0005/improved-ddgan/.venv/lib/python3.10/site-packages/IPython/core/magics/osm.py:393: UserWarning: This is now an optional IPython functionality, using bookmarks requires you to install the `pickleshare` library.\n",
      "  bkms = self.shell.db.get('bookmarks', {})\n",
      "/home/users/std/2021/21k0005/improved-ddgan/.venv/lib/python3.10/site-packages/IPython/core/magics/osm.py:417: UserWarning: This is now an optional IPython functionality, setting dhist requires you to install the `pickleshare` library.\n",
      "  self.shell.db['dhist'] = compress_dhist(dhist)[-100:]\n"
     ]
    }
   ],
   "source": [
    "%cd ~/improved-ddgan/"
   ]
  },
  {
   "cell_type": "code",
   "execution_count": 14,
   "id": "c5ad0c33-f300-42e7-ac76-e0a612428ff7",
   "metadata": {},
   "outputs": [],
   "source": [
    "from pytorch_fid.fid_score import calculate_fid_given_paths"
   ]
  },
  {
   "cell_type": "code",
   "execution_count": 56,
   "id": "260ff6ab-14ed-4db7-8b6c-266ddea0601a",
   "metadata": {},
   "outputs": [
    {
     "name": "stderr",
     "output_type": "stream",
     "text": [
      "/home/users/std/2021/21k0005/improved-ddgan/.venv/lib/python3.10/site-packages/torchvision/models/_utils.py:208: UserWarning: The parameter 'pretrained' is deprecated since 0.13 and may be removed in the future, please use 'weights' instead.\n",
      "  warnings.warn(\n",
      "/home/users/std/2021/21k0005/improved-ddgan/.venv/lib/python3.10/site-packages/torchvision/models/_utils.py:223: UserWarning: Arguments other than a weight enum or `None` for 'weights' are deprecated since 0.13 and may be removed in the future. The current behavior is equivalent to passing `weights=None`.\n",
      "  warnings.warn(msg)\n",
      "100%|██████████████████████████████████████████████████████████████████████████████| 500/500 [00:26<00:00, 19.02it/s]\n"
     ]
    },
    {
     "name": "stdout",
     "output_type": "stream",
     "text": [
      "FID = 16.71886434727128\n"
     ]
    }
   ],
   "source": [
    "#save_dir = \"../pytorch-ddpm/generated_images/\"\n",
    "real_img_dir = \"pytorch_fid/cifar10_train_stat.npy\"\n",
    "save_dir = \"data/cifar-10/train/\"\n",
    "#real_img_dir = \"../pytorch-ddpm/stats/cifar10.train.npz\"\n",
    "paths = [save_dir, real_img_dir]\n",
    "device = \"cuda:0\"\n",
    "kwargs = {'batch_size': 100, 'device': device, 'dims': 2048}\n",
    "fid = calculate_fid_given_paths(paths=paths, **kwargs)\n",
    "print('FID = {}'.format(fid))"
   ]
  },
  {
   "cell_type": "code",
   "execution_count": 19,
   "id": "cec778f3-df3a-4599-a578-a378bd5dca12",
   "metadata": {},
   "outputs": [],
   "source": [
    "import numpy as np"
   ]
  },
  {
   "cell_type": "code",
   "execution_count": 21,
   "id": "e77c2e95-7119-44c1-933d-971b7fbf9634",
   "metadata": {},
   "outputs": [],
   "source": [
    "a = np.load(\"pytorch_fid/cifar10_train_stat.npy\", allow_pickle=True)"
   ]
  },
  {
   "cell_type": "code",
   "execution_count": 37,
   "id": "1879399e-0e50-4569-b315-61f1dbdc443c",
   "metadata": {},
   "outputs": [],
   "source": [
    "a = a.item()"
   ]
  },
  {
   "cell_type": "code",
   "execution_count": 38,
   "id": "1c4b7af7-3d7f-4da9-9b2a-76ede0a20d3c",
   "metadata": {},
   "outputs": [
    {
     "data": {
      "text/plain": [
       "{'mu': array([0.07745414, 0.25598865, 0.31927318, ..., 0.60621447, 0.37577071,\n",
       "        0.64444193]),\n",
       " 'sigma': array([[ 8.13178156e-03,  1.26834842e-03, -1.36604568e-03, ...,\n",
       "          1.05458504e-02, -7.49273273e-04, -6.39010910e-05],\n",
       "        [ 1.26834842e-03,  4.89064911e-02, -1.26454872e-03, ...,\n",
       "          6.56855905e-03,  6.03934756e-03, -7.69578033e-03],\n",
       "        [-1.36604568e-03, -1.26454872e-03,  4.68894818e-02, ...,\n",
       "         -2.55639565e-02,  4.50058036e-03,  2.30507259e-03],\n",
       "        ...,\n",
       "        [ 1.05458504e-02,  6.56855905e-03, -2.55639565e-02, ...,\n",
       "          2.92388776e-01,  1.63455075e-02,  7.57669617e-03],\n",
       "        [-7.49273273e-04,  6.03934756e-03,  4.50058036e-03, ...,\n",
       "          1.63455075e-02,  9.20091746e-02, -3.22354572e-03],\n",
       "        [-6.39010910e-05, -7.69578033e-03,  2.30507259e-03, ...,\n",
       "          7.57669617e-03, -3.22354572e-03,  1.73306099e-01]])}"
      ]
     },
     "execution_count": 38,
     "metadata": {},
     "output_type": "execute_result"
    }
   ],
   "source": [
    "a"
   ]
  },
  {
   "cell_type": "code",
   "execution_count": 24,
   "id": "88d3c4df-d920-44db-8307-48d083911cea",
   "metadata": {},
   "outputs": [],
   "source": [
    "b = np.load(\"../pytorch-ddpm/stats/cifar10.train.npz\")"
   ]
  },
  {
   "cell_type": "code",
   "execution_count": 28,
   "id": "8f41cd12-72a0-4b96-930b-cba0cef8ae52",
   "metadata": {},
   "outputs": [
    {
     "data": {
      "text/plain": [
       "array([0.09976815, 0.24318894, 0.29826408, ..., 0.50716553, 0.39214521,\n",
       "       0.64979453])"
      ]
     },
     "execution_count": 28,
     "metadata": {},
     "output_type": "execute_result"
    }
   ],
   "source": [
    "b[\"mu\"]"
   ]
  },
  {
   "cell_type": "code",
   "execution_count": 29,
   "id": "31962fb8-18d1-4793-a948-bca215d9410c",
   "metadata": {},
   "outputs": [
    {
     "data": {
      "text/plain": [
       "array([[ 0.01227427,  0.00172983, -0.00055732, ...,  0.00894856,\n",
       "        -0.00092401,  0.00190969],\n",
       "       [ 0.00172983,  0.04174218,  0.00064635, ...,  0.00472976,\n",
       "         0.00550685,  0.00047681],\n",
       "       [-0.00055732,  0.00064635,  0.0442294 , ..., -0.02097971,\n",
       "         0.00257907,  0.00124318],\n",
       "       ...,\n",
       "       [ 0.00894856,  0.00472976, -0.02097971, ...,  0.22309812,\n",
       "         0.01451769,  0.0094839 ],\n",
       "       [-0.00092401,  0.00550685,  0.00257907, ...,  0.01451769,\n",
       "         0.10454543, -0.00578467],\n",
       "       [ 0.00190969,  0.00047681,  0.00124318, ...,  0.0094839 ,\n",
       "        -0.00578467,  0.18074908]])"
      ]
     },
     "execution_count": 29,
     "metadata": {},
     "output_type": "execute_result"
    }
   ],
   "source": [
    "b[\"sigma\"]"
   ]
  },
  {
   "cell_type": "code",
   "execution_count": 39,
   "id": "dd273167-f028-4832-b4eb-3ab86c14215d",
   "metadata": {},
   "outputs": [],
   "source": [
    "c = b[\"mu\"]-a[\"mu\"]"
   ]
  },
  {
   "cell_type": "code",
   "execution_count": 40,
   "id": "6e721f36-1ec3-4b35-b450-41252ebd0927",
   "metadata": {},
   "outputs": [],
   "source": [
    "d = b[\"sigma\"] - a[\"sigma\"]"
   ]
  },
  {
   "cell_type": "code",
   "execution_count": 45,
   "id": "483fb90f-162b-48f7-a4d2-2f3652b21819",
   "metadata": {},
   "outputs": [
    {
     "data": {
      "text/plain": [
       "array([ 0.02231401, -0.01279972, -0.0210091 , ..., -0.09904894,\n",
       "        0.0163745 ,  0.0053526 ])"
      ]
     },
     "execution_count": 45,
     "metadata": {},
     "output_type": "execute_result"
    }
   ],
   "source": [
    "c"
   ]
  },
  {
   "cell_type": "code",
   "execution_count": 54,
   "id": "60b1bd56-9a85-475d-8067-7d64d42aff94",
   "metadata": {},
   "outputs": [
    {
     "data": {
      "text/plain": [
       "array([[ 0.00414248,  0.00046148,  0.00080873, ..., -0.00159729,\n",
       "        -0.00017473,  0.00197359],\n",
       "       [ 0.00046148, -0.00716432,  0.00191089, ..., -0.0018388 ,\n",
       "        -0.0005325 ,  0.00817259],\n",
       "       [ 0.00080873,  0.00191089, -0.00266008, ...,  0.00458424,\n",
       "        -0.00192151, -0.0010619 ],\n",
       "       ...,\n",
       "       [-0.00159729, -0.0018388 ,  0.00458424, ..., -0.06929066,\n",
       "        -0.00182782,  0.0019072 ],\n",
       "       [-0.00017473, -0.0005325 , -0.00192151, ..., -0.00182782,\n",
       "         0.01253625, -0.00256113],\n",
       "       [ 0.00197359,  0.00817259, -0.0010619 , ...,  0.0019072 ,\n",
       "        -0.00256113,  0.00744298]])"
      ]
     },
     "execution_count": 54,
     "metadata": {},
     "output_type": "execute_result"
    }
   ],
   "source": [
    "d"
   ]
  },
  {
   "cell_type": "code",
   "execution_count": 48,
   "id": "e8522c50-29f7-4a1c-bbb8-f4d9a2d0c4f0",
   "metadata": {},
   "outputs": [
    {
     "data": {
      "image/png": "[encoded data removed]",
      "text/plain": [
       "<Figure size 640x480 with 1 Axes>"
      ]
     },
     "metadata": {},
     "output_type": "display_data"
    }
   ],
   "source": [
    "import numpy as np\n",
    "import matplotlib.pyplot as plt\n",
    "\n",
    "# 棒グラフのx軸の位置 (インデックス)\n",
    "x_positions = np.arange(len(c))\n",
    "\n",
    "# 棒グラフを描画\n",
    "plt.bar(x_positions, c)\n",
    "\n",
    "# x軸のラベルを設定 (インデックスを表示)\n",
    "plt.xticks(x_positions)\n",
    "\n",
    "# グラフのタイトルや軸ラベルを設定 (オプション)\n",
    "plt.title(\"mu diff\")\n",
    "plt.xlabel(\"index\")\n",
    "plt.ylabel(\"value diff\")\n",
    "\n",
    "# グラフを表示\n",
    "plt.show()"
   ]
  },
  {
   "cell_type": "code",
   "execution_count": null,
   "id": "44a2428a-e80f-48cc-9b4b-182e00f5478c",
   "metadata": {},
   "outputs": [],
   "source": []
  }
 ],
 "metadata": {
  "kernelspec": {
   "display_name": "Python 3 (ipykernel)",
   "language": "python",
   "name": "python3"
  },
  "language_info": {
   "codemirror_mode": {
    "name": "ipython",
    "version": 3
   },
   "file_extension": ".py",
   "mimetype": "text/x-python",
   "name": "python",
   "nbconvert_exporter": "python",
   "pygments_lexer": "ipython3",
   "version": "3.10.14"
  }
 },
 "nbformat": 4,
 "nbformat_minor": 5
}
