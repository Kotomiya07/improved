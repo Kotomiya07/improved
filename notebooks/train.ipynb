{
    "cells": [
        {
            "cell_type": "markdown",
            "id": "74c304b6-871e-4f8b-8e50-4cbf1ab46c70",
            "metadata": {},
            "source": [
                "\n",
                "## import"
            ]
        },
        {
            "cell_type": "code",
            "execution_count": 8,
            "id": "9589260c-50a2-4050-b385-4aa9acb9eaac",
            "metadata": {},
            "outputs": [],
            "source": [
                "import os\n",
                "import shutil\n",
                "\n",
                "import numpy as np\n",
                "import torch\n",
                "import torch.nn as nn\n",
                "import torch.nn.functional as F\n",
                "import torch.optim as optim\n",
                "import torchvision\n",
                "from datasets_prep.dataset import create_dataset\n",
                "from diffusion import sample_from_model, sample_posterior, \\\n",
                "    q_sample_pairs, get_time_schedule, \\\n",
                "    Posterior_Coefficients, Diffusion_Coefficients\n",
                "#from DWT_IDWT.DWT_IDWT_layer import DWT_2D, IDWT_2D\n",
                "#from pytorch_wavelets import DWTForward, DWTInverse\n",
                "from torch.multiprocessing import Process\n",
                "from utils import init_processes, copy_source, broadcast_params\n",
                "import yaml\n",
                "\n",
                "from ldm.util import instantiate_from_config\n",
                "from omegaconf import OmegaConf\n",
                "import wandb"
            ]
        },
        {
            "cell_type": "markdown",
            "id": "d98a87a4-3315-430c-8db0-69dcbb9b297b",
            "metadata": {},
            "source": [
                "## utils"
            ]
        },
        {
            "cell_type": "code",
            "execution_count": 9,
            "id": "0f6ef80e-c53e-4687-ab90-c0422a49da84",
            "metadata": {},
            "outputs": [],
            "source": [
                "def load_model_from_config(config_path, ckpt):\n",
                "    print(f\"Loading model from {ckpt}\")\n",
                "    config = OmegaConf.load(config_path)\n",
                "    pl_sd = torch.load(ckpt, map_location=\"cpu\")\n",
                "    #global_step = pl_sd[\"global_step\"]\n",
                "    sd = pl_sd[\"state_dict\"]\n",
                "    model = instantiate_from_config(config.model)\n",
                "    m, u = model.load_state_dict(sd, strict=False)\n",
                "    model = model.first_stage_model\n",
                "    model.cuda()\n",
                "    model.eval()\n",
                "    del m\n",
                "    del u\n",
                "    del pl_sd\n",
                "    return model\n",
                "\n",
                "def grad_penalty_call(args, D_real, x_t):\n",
                "    grad_real = torch.autograd.grad(\n",
                "        outputs=D_real.sum(), inputs=x_t, create_graph=True\n",
                "    )[0]\n",
                "    grad_penalty = (\n",
                "        grad_real.view(grad_real.size(0), -1).norm(2, dim=1) ** 2\n",
                "    ).mean()\n",
                "\n",
                "    grad_penalty = args.r1_gamma / 2 * grad_penalty\n",
                "    grad_penalty.backward()"
            ]
        },
        {
            "cell_type": "markdown",
            "id": "d891bc25-8b42-4d7e-ab93-be83c4585ff0",
            "metadata": {},
            "source": [
                "## config"
            ]
        },
        {
            "cell_type": "code",
            "execution_count": 10,
            "id": "2c25d872-bb86-4525-ba72-30951f955396",
            "metadata": {},
            "outputs": [],
            "source": [
                "from get_args import get_args\n",
                "args = [\n",
                "    \"--dataset\", \"afhq_cat\", \"--image_size\", \"256\",\n",
                "    \"--exp\", \"test\", \"--num_channels\", \"4\",\n",
                "    \"--num_channels_dae\", \"128\", \"--ch_mult\", \"1\", \"2\", \"2\", \"2\", \n",
                "    \"--num_timesteps\", \"2\", \"--num_res_blocks\", \"2\", \n",
                "    \"--batch_size\", \"32\", \"--num_epoch\", \"200\", \n",
                "    \"--ngf\", \"64\", \"--embedding_type\", \"positional\", \n",
                "    \"--use_ema\", \"--ema_decay\", \"0.999\",\n",
                "    \"--r1_gamma\", \"2.\", \"--nz\", \"100\",\n",
                "    \"--z_emb_dim\", \"256\", \"--lr_d\", \"1.0e-4\",\n",
                "    \"--lr_g\", \"2e-4\", \"--lazy_reg\", \"10\",\n",
                "    \"--save_content\", \"--datadir\", \"data/afhq\", \n",
                "    \"--master_port\", \"6084\", \"--num_process_per_node\", \"0\",\n",
                "    \"--current_resolution\", \"128\", \"--attn_resolution\", \"16\",\n",
                "    \"--num_disc_layers\", \"4\", \"--rec_loss\", \n",
                "    \"--save_content_every\", \"1\", \"--AutoEncoder_config\", \"./autoencoder/config/kl-f2.yaml\", \n",
                "    \"--AutoEncoder_ckpt\", \"./autoencoder/weight/kl-f2.ckpt\", \"--scale_factor\", \"6.0\", \n",
                "    \"--no_lr_decay\", \"--sigmoid_learning\"\n",
                "]\n",
                "\n",
                "args = get_args(args)\n"
            ]
        },
        {
            "cell_type": "code",
            "execution_count": 11,
            "id": "6c8edb41-4a8d-4f0c-9335-46512f6ff5fe",
            "metadata": {},
            "outputs": [],
            "source": [
                "from get_args import get_args\n",
                "args = [\n",
                "    \"--dataset\", \"cifar10\", \"--image_size\", \"32\",\n",
                "    \"--exp\", \"test\", \"--num_channels\", \"4\",\n",
                "    \"--num_channels_dae\", \"128\", \"--ch_mult\", \"1\", \"2\", \"2\", \"2\", \n",
                "    \"--num_timesteps\", \"2\", \"--num_res_blocks\", \"2\", \n",
                "    \"--batch_size\", \"32\", \"--num_epoch\", \"200\", \n",
                "    \"--ngf\", \"64\", \"--embedding_type\", \"positional\", \n",
                "    \"--use_ema\", \"--ema_decay\", \"0.999\",\n",
                "    \"--r1_gamma\", \"2.\", \"--nz\", \"100\",\n",
                "    \"--z_emb_dim\", \"256\", \"--lr_d\", \"1.0e-4\",\n",
                "    \"--lr_g\", \"2e-4\", \"--lazy_reg\", \"10\",\n",
                "    \"--save_content\", \"--datadir\", \"data/cifar-10\", \n",
                "    \"--master_port\", \"6084\", \"--num_process_per_node\", \"0\",\n",
                "    \"--current_resolution\", \"16\", \"--attn_resolution\", \"16\",\n",
                "    \"--num_disc_layers\", \"4\", \"--rec_loss\", \n",
                "    \"--save_content_every\", \"1\", \"--AutoEncoder_config\", \"./autoencoder/config/kl-f2.yaml\", \n",
                "    \"--AutoEncoder_ckpt\", \"./autoencoder/weight/kl-f2.ckpt\", \"--scale_factor\", \"6.0\", \n",
                "    \"--no_lr_decay\", \"--sigmoid_learning\"\n",
                "]\n",
                "\n",
                "args = get_args(args)\n"
            ]
        },
        {
            "cell_type": "markdown",
            "id": "b1a3b19e-5201-406c-8b46-e7bdc4887b7d",
            "metadata": {},
            "source": [
                "## wandb setting\n"
            ]
        },
        {
            "cell_type": "code",
            "execution_count": 12,
            "id": "66391d0e-24a1-4371-b5f8-06632cc40445",
            "metadata": {},
            "outputs": [
                {
                    "data": {
                        "text/html": [
                            "Finishing last run (ID:38ozll6x) before initializing another..."
                        ],
                        "text/plain": [
                            "<IPython.core.display.HTML object>"
                        ]
                    },
                    "metadata": {},
                    "output_type": "display_data"
                },
                {
                    "data": {
                        "application/vnd.jupyter.widget-view+json": {
                            "model_id": "",
                            "version_major": 2,
                            "version_minor": 0
                        },
                        "text/plain": [
                            "VBox(children=(Label(value='0.014 MB of 0.022 MB uploaded\\r'), FloatProgress(value=0.6176345186322163, max=1.0…"
                        ]
                    },
                    "metadata": {},
                    "output_type": "display_data"
                },
                {
                    "data": {
                        "text/html": [
                            "<style>\n",
                            "    table.wandb td:nth-child(1) { padding: 0 10px; text-align: left ; width: auto;} td:nth-child(2) {text-align: left ; width: 100%}\n",
                            "    .wandb-row { display: flex; flex-direction: row; flex-wrap: wrap; justify-content: flex-start; width: 100% }\n",
                            "    .wandb-col { display: flex; flex-direction: column; flex-basis: 100%; flex: 1; padding: 10px; }\n",
                            "    </style>\n",
                            "<div class=\"wandb-row\"><div class=\"wandb-col\"><h3>Run history:</h3><br/><table class=\"wandb\"><tr><td>D_loss_per_iter</td><td>█▁▁▁</td></tr><tr><td>G_loss_per_100iter</td><td>▄▇█▁</td></tr><tr><td>time_per_100iter</td><td>▁███</td></tr></table><br/></div><div class=\"wandb-col\"><h3>Run summary:</h3><br/><table class=\"wandb\"><tr><td>D_loss_per_iter</td><td>0.00564</td></tr><tr><td>G_loss_per_100iter</td><td>5.8771</td></tr><tr><td>time_per_100iter</td><td>7.98588</td></tr></table><br/></div></div>"
                        ],
                        "text/plain": [
                            "<IPython.core.display.HTML object>"
                        ]
                    },
                    "metadata": {},
                    "output_type": "display_data"
                },
                {
                    "data": {
                        "text/html": [
                            " View run <strong style=\"color:#cdcd00\">hearty-totem-18</strong> at: <a href='https://wandb.ai/kotomiya07/TEST/runs/38ozll6x' target=\"_blank\">https://wandb.ai/kotomiya07/TEST/runs/38ozll6x</a><br/> View project at: <a href='https://wandb.ai/kotomiya07/TEST' target=\"_blank\">https://wandb.ai/kotomiya07/TEST</a><br/>Synced 5 W&B file(s), 0 media file(s), 0 artifact file(s) and 0 other file(s)"
                        ],
                        "text/plain": [
                            "<IPython.core.display.HTML object>"
                        ]
                    },
                    "metadata": {},
                    "output_type": "display_data"
                },
                {
                    "data": {
                        "text/html": [
                            "Find logs at: <code>./wandb/run-20240904_152817-38ozll6x/logs</code>"
                        ],
                        "text/plain": [
                            "<IPython.core.display.HTML object>"
                        ]
                    },
                    "metadata": {},
                    "output_type": "display_data"
                },
                {
                    "data": {
                        "text/html": [
                            "The new W&B backend becomes opt-out in version 0.18.0; try it out with `wandb.require(\"core\")`! See https://wandb.me/wandb-core for more information."
                        ],
                        "text/plain": [
                            "<IPython.core.display.HTML object>"
                        ]
                    },
                    "metadata": {},
                    "output_type": "display_data"
                },
                {
                    "data": {
                        "text/html": [
                            "Successfully finished last run (ID:38ozll6x). Initializing new run:<br/>"
                        ],
                        "text/plain": [
                            "<IPython.core.display.HTML object>"
                        ]
                    },
                    "metadata": {},
                    "output_type": "display_data"
                },
                {
                    "data": {
                        "application/vnd.jupyter.widget-view+json": {
                            "model_id": "e246145c418c4764bad3e2f237d0414b",
                            "version_major": 2,
                            "version_minor": 0
                        },
                        "text/plain": [
                            "VBox(children=(Label(value='Waiting for wandb.init()...\\r'), FloatProgress(value=0.011112120752740238, max=1.0…"
                        ]
                    },
                    "metadata": {},
                    "output_type": "display_data"
                },
                {
                    "data": {
                        "text/html": [
                            "Tracking run with wandb version 0.17.8"
                        ],
                        "text/plain": [
                            "<IPython.core.display.HTML object>"
                        ]
                    },
                    "metadata": {},
                    "output_type": "display_data"
                },
                {
                    "data": {
                        "text/html": [
                            "Run data is saved locally in <code>/scratch/users/std/2021/21k0005/improved-ddgan/wandb/run-20240904_152904-irpdtnxj</code>"
                        ],
                        "text/plain": [
                            "<IPython.core.display.HTML object>"
                        ]
                    },
                    "metadata": {},
                    "output_type": "display_data"
                },
                {
                    "data": {
                        "text/html": [
                            "Syncing run <strong><a href='https://wandb.ai/kotomiya07/TEST/runs/irpdtnxj' target=\"_blank\">fancy-feather-19</a></strong> to <a href='https://wandb.ai/kotomiya07/TEST' target=\"_blank\">Weights & Biases</a> (<a href='https://wandb.me/run' target=\"_blank\">docs</a>)<br/>"
                        ],
                        "text/plain": [
                            "<IPython.core.display.HTML object>"
                        ]
                    },
                    "metadata": {},
                    "output_type": "display_data"
                },
                {
                    "data": {
                        "text/html": [
                            " View project at <a href='https://wandb.ai/kotomiya07/TEST' target=\"_blank\">https://wandb.ai/kotomiya07/TEST</a>"
                        ],
                        "text/plain": [
                            "<IPython.core.display.HTML object>"
                        ]
                    },
                    "metadata": {},
                    "output_type": "display_data"
                },
                {
                    "data": {
                        "text/html": [
                            " View run at <a href='https://wandb.ai/kotomiya07/TEST/runs/irpdtnxj' target=\"_blank\">https://wandb.ai/kotomiya07/TEST/runs/irpdtnxj</a>"
                        ],
                        "text/plain": [
                            "<IPython.core.display.HTML object>"
                        ]
                    },
                    "metadata": {},
                    "output_type": "display_data"
                },
                {
                    "data": {
                        "text/html": [
                            "<button onClick=\"this.nextSibling.style.display='block';this.style.display='none';\">Display W&B run</button><iframe src='https://wandb.ai/kotomiya07/TEST/runs/irpdtnxj?jupyter=true' style='border:none;width:100%;height:420px;display:none;'></iframe>"
                        ],
                        "text/plain": [
                            "<wandb.sdk.wandb_run.Run at 0x7f8ec4e3c910>"
                        ]
                    },
                    "execution_count": 12,
                    "metadata": {},
                    "output_type": "execute_result"
                }
            ],
            "source": [
                "wandb.init(\n",
                "            project=\"TEST\",\n",
                "            config={\n",
                "                \"dataset\": args.dataset,\n",
                "                \"image_size\": args.image_size,\n",
                "                \"channels\": args.num_channels,\n",
                "                \"timesteps\": args.num_timesteps,\n",
                "                \"nz\": args.nz,\n",
                "                \"epochs\": args.num_epoch,\n",
                "                \"ngf\": args.ngf,\n",
                "                \"lr_g\": args.lr_g,\n",
                "                \"lr_d\": args.lr_d,\n",
                "                \"batch_size\": args.batch_size,\n",
                "                \"r1_gamma\": args.r1_gamma,\n",
                "                \"lazy_reg\": args.lazy_reg,\n",
                "                \"use_ema\": args.use_ema,\n",
                "                \"ema_decay\": args.ema_decay,\n",
                "                \"no_lr_decay\": args.no_lr_decay,\n",
                "                \"use_pytorch_wavelet\": args.use_pytorch_wavelet,\n",
                "                \"rec_loss\": args.rec_loss,\n",
                "                \"net_type\": args.net_type,\n",
                "                \"num_disc_layers\": args.num_disc_layers,\n",
                "                \"no_use_fbn\": args.no_use_fbn,\n",
                "                \"no_use_freq\": args.no_use_freq,\n",
                "                \"no_use_residual\": args.no_use_residual,\n",
                "                \"scale_factor\": args.scale_factor,\n",
                "                \"AutoEncoder_config\": args.AutoEncoder_config,\n",
                "                \"AutoEncoder_ckpt\": args.AutoEncoder_ckpt,\n",
                "                \"sigmoid_learning\": args.sigmoid_learning,\n",
                "            }\n",
                "        )"
            ]
        },
        {
            "cell_type": "markdown",
            "id": "36a6c9d4-8d3f-4fef-aa53-8248caebf840",
            "metadata": {},
            "source": [
                "## train\n"
            ]
        },
        {
            "cell_type": "code",
            "execution_count": 13,
            "id": "5ce020e4-4a06-4f99-b867-125d37ee0539",
            "metadata": {},
            "outputs": [
                {
                    "name": "stdout",
                    "output_type": "stream",
                    "text": [
                        "Files already downloaded and verified\n",
                        "GEN: <class 'score_sde.models.ncsnpp_generator_adagn.NCSNpp'>, DISC: [<class 'score_sde.models.discriminator.Discriminator_small'>, <class 'score_sde.models.discriminator.Discriminator_large'>]\n",
                        "making attention of type 'vanilla' with 256 in_channels\n",
                        "making attention of type 'vanilla' with 256 in_channels\n",
                        "making attention of type 'vanilla' with 256 in_channels\n",
                        "Working with z of shape (1, 4, 16, 16) = 1024 dimensions.\n",
                        "making attention of type 'vanilla' with 256 in_channels\n",
                        "making attention of type 'vanilla' with 256 in_channels\n",
                        "making attention of type 'vanilla' with 256 in_channels\n",
                        "making attention of type 'vanilla' with 256 in_channels\n",
                        "loaded pretrained LPIPS loss from taming/modules/autoencoder/lpips/vgg.pth\n",
                        "=> loaded checkpoint (epoch 2)\n"
                    ]
                }
            ],
            "source": [
                "rank = gpu = 0\n",
                "from EMA import EMA\n",
                "from score_sde.models.discriminator import Discriminator_large, Discriminator_small\n",
                "from score_sde.models.ncsnpp_generator_adagn import NCSNpp, WaveletNCSNpp\n",
                "\n",
                "torch.manual_seed(args.seed + rank)\n",
                "torch.cuda.manual_seed(args.seed + rank)\n",
                "torch.cuda.manual_seed_all(args.seed + rank)\n",
                "device = torch.device('cuda:{}'.format(gpu))\n",
                "\n",
                "batch_size = args.batch_size\n",
                "\n",
                "nz = args.nz  # latent dimension\n",
                "\n",
                "dataset = create_dataset(args)\n",
                "#train_sampler = torch.utils.data.distributed.DistributedSampler(dataset,\n",
                "#                                                                num_replicas=args.world_size,\n",
                "#                                                                rank=rank)\n",
                "data_loader = torch.utils.data.DataLoader(dataset,\n",
                "                                            batch_size=batch_size,\n",
                "                                            shuffle=False,\n",
                "                                            num_workers=args.num_workers,\n",
                "                                            pin_memory=True,\n",
                "                                            drop_last=True)\n",
                "args.ori_image_size = args.image_size\n",
                "args.image_size = args.current_resolution\n",
                "G_NET_ZOO = {\"normal\": NCSNpp, \"wavelet\": WaveletNCSNpp}\n",
                "gen_net = G_NET_ZOO[args.net_type]\n",
                "disc_net = [Discriminator_small, Discriminator_large]\n",
                "print(\"GEN: {}, DISC: {}\".format(gen_net, disc_net))\n",
                "netG = gen_net(args).to(device)\n",
                "\n",
                "if args.dataset in ['cifar10', 'stl10', 'afhq_cat']:\n",
                "    netD = disc_net[0](nc=2 * args.num_channels, ngf=args.ngf,\n",
                "                        t_emb_dim=args.t_emb_dim,\n",
                "                        act=nn.LeakyReLU(0.2), num_layers=args.num_disc_layers).to(device)\n",
                "else:\n",
                "    netD = disc_net[1](nc=2 * args.num_channels, ngf=args.ngf,\n",
                "                        t_emb_dim=args.t_emb_dim,\n",
                "                        act=nn.LeakyReLU(0.2), num_layers=args.num_disc_layers).to(device)\n",
                "\n",
                "#broadcast_params(netG.parameters())\n",
                "#broadcast_params(netD.parameters())\n",
                "\n",
                "optimizerD = optim.Adam(filter(lambda p: p.requires_grad, netD.parameters(\n",
                ")), lr=args.lr_d, betas=(args.beta1, args.beta2))\n",
                "optimizerG = optim.Adam(filter(lambda p: p.requires_grad, netG.parameters(\n",
                ")), lr=args.lr_g, betas=(args.beta1, args.beta2))\n",
                "\n",
                "if args.use_ema:\n",
                "    optimizerG = EMA(optimizerG, ema_decay=args.ema_decay)\n",
                "\n",
                "schedulerG = torch.optim.lr_scheduler.CosineAnnealingLR(\n",
                "    optimizerG, args.num_epoch, eta_min=1e-5)\n",
                "schedulerD = torch.optim.lr_scheduler.CosineAnnealingLR(\n",
                "    optimizerD, args.num_epoch, eta_min=1e-5)\n",
                "\n",
                "# ddp\n",
                "#netG = nn.parallel.DistributedDataParallel(\n",
                "#    netG, device_ids=[gpu])\n",
                "#netD = nn.parallel.DistributedDataParallel(netD, device_ids=[gpu])\n",
                "\n",
                "\"\"\"############### DELETE TO AVOID ERROR ###############\"\"\"\n",
                "# Wavelet Pooling\n",
                "#if not args.use_pytorch_wavelet:\n",
                "#    dwt = DWT_2D(\"haar\")\n",
                "#    iwt = IDWT_2D(\"haar\")\n",
                "#else:\n",
                "#    dwt = DWTForward(J=1, mode='zero', wave='haar').cuda()\n",
                "#    iwt = DWTInverse(mode='zero', wave='haar').cuda()\n",
                "    \n",
                "\n",
                "#load encoder and decoder\n",
                "config_path = args.AutoEncoder_config \n",
                "ckpt_path = args.AutoEncoder_ckpt \n",
                "\n",
                "if args.dataset in ['cifar10', 'stl10', 'coco', 'afhq_cat']:\n",
                "    with open(config_path, 'r') as file:\n",
                "        config = yaml.safe_load(file)\n",
                "    \n",
                "    AutoEncoder = instantiate_from_config(config['model'])\n",
                "    \n",
                "\n",
                "    checkpoint = torch.load(ckpt_path, map_location=device)\n",
                "    AutoEncoder.load_state_dict(checkpoint['state_dict'])\n",
                "    AutoEncoder.eval()\n",
                "    AutoEncoder.to(device)\n",
                "\n",
                "else:\n",
                "    AutoEncoder = load_model_from_config(config_path, ckpt_path)\n",
                "\"\"\"############### END DELETING ###############\"\"\"\n",
                "\n",
                "num_levels = int(np.log2(args.ori_image_size // args.current_resolution))\n",
                "\n",
                "exp = args.exp\n",
                "parent_dir = \"./saved_info/{}\".format(args.dataset)\n",
                "\n",
                "exp_path = os.path.join(parent_dir, exp)\n",
                "if rank == 0:\n",
                "    if not os.path.exists(exp_path):\n",
                "        os.makedirs(exp_path)\n",
                "        copy_source(__file__, exp_path)\n",
                "        shutil.copytree('score_sde/models', os.path.join(exp_path, 'score_sde/models'))\n",
                "\n",
                "coeff = Diffusion_Coefficients(args, device)\n",
                "pos_coeff = Posterior_Coefficients(args, device)\n",
                "T = get_time_schedule(args, device)\n",
                "\n",
                "if args.resume or os.path.exists(os.path.join(exp_path, 'content.pth')):\n",
                "    checkpoint_file = os.path.join(exp_path, 'content.pth')\n",
                "    checkpoint = torch.load(checkpoint_file, map_location=device)\n",
                "    init_epoch = checkpoint['epoch']\n",
                "    epoch = init_epoch\n",
                "    # load G\n",
                "    netG.load_state_dict(checkpoint['netG_dict'])\n",
                "    #optimizerG.load_state_dict(checkpoint['optimizerG'])\n",
                "    schedulerG.load_state_dict(checkpoint['schedulerG'])\n",
                "    # load D\n",
                "    netD.load_state_dict(checkpoint['netD_dict'])\n",
                "    #optimizerD.load_state_dict(checkpoint['optimizerD'])\n",
                "    schedulerD.load_state_dict(checkpoint['schedulerD'])\n",
                "\n",
                "    global_step = checkpoint['global_step']\n",
                "    print(\"=> loaded checkpoint (epoch {})\"\n",
                "            .format(checkpoint['epoch']))\n",
                "else:\n",
                "    global_step, epoch, init_epoch = 0, 0, 0\n",
                "\n",
                "'''Sigmoid learning parameter'''\n",
                "gamma = 6\n",
                "beta = np.linspace(-gamma, gamma, args.num_epoch+1)\n",
                "alpha = 1 - 1 / (1+np.exp(-beta))\n",
                "\n",
                "if args.dataset in ['cifar10'] and args.class_conditional:\n",
                "    class_embedding = nn.Embedding(10, nz).to(device)\n",
                "\n",
                "nrow = 2\n",
                "if args.batch_size >= 5:\n",
                "    nrow = 3\n",
                "if args.batch_size >= 10:\n",
                "    nrow = 10"
            ]
        },
        {
            "cell_type": "markdown",
            "id": "34310442-04bd-4cbf-a5d4-106360bcea74",
            "metadata": {},
            "source": [
                "## train loop"
            ]
        },
        {
            "cell_type": "code",
            "execution_count": 7,
            "id": "e473230c-006d-4f7d-9205-8a43e9eed543",
            "metadata": {
                "scrolled": true
            },
            "outputs": [
                {
                    "name": "stderr",
                    "output_type": "stream",
                    "text": [
                        "/scratch/users/std/2021/21k0005/improved-ddgan/.venv/lib/python3.10/site-packages/torch/utils/data/dataloader.py:558: UserWarning: This DataLoader will create 4 worker processes in total. Our suggested max number of worker in current system is 2, which is smaller than what this DataLoader is going to create. Please be aware that excessive worker creation might get DataLoader running slow or even freeze, lower the worker number to avoid potential slowness/freeze if necessary.\n",
                        "  warnings.warn(_create_warning_msg(\n"
                    ]
                },
                {
                    "name": "stdout",
                    "output_type": "stream",
                    "text": [
                        "Epoch: 2, Iteration: 0\n",
                        "OUTTTT\n",
                        "epoch 2 iteration0, G Loss: 7.687418460845947, D Loss: 0.08819055557250977, alpha: 0.9972130037809577\n",
                        "Epoch: 2, Iteration: 10\n",
                        "Epoch: 2, Iteration: 20\n",
                        "Epoch: 2, Iteration: 30\n",
                        "Epoch: 2, Iteration: 40\n",
                        "Epoch: 2, Iteration: 50\n",
                        "OUTTTT\n",
                        "Epoch: 2, Iteration: 60\n",
                        "Epoch: 2, Iteration: 70\n",
                        "Epoch: 2, Iteration: 80\n",
                        "Epoch: 2, Iteration: 90\n",
                        "Epoch: 2, Iteration: 100\n",
                        "OUTTTT\n",
                        "epoch 2 iteration100, G Loss: 9.737632751464844, D Loss: 0.0017735939472913742, alpha: 0.9972130037809577\n",
                        "Epoch: 2, Iteration: 110\n",
                        "Epoch: 2, Iteration: 120\n",
                        "Epoch: 2, Iteration: 130\n",
                        "Epoch: 2, Iteration: 140\n",
                        "Epoch: 2, Iteration: 150\n",
                        "OUTTTT\n",
                        "Epoch: 2, Iteration: 160\n",
                        "Epoch: 2, Iteration: 170\n",
                        "Epoch: 2, Iteration: 180\n",
                        "Epoch: 2, Iteration: 190\n",
                        "Epoch: 2, Iteration: 200\n",
                        "OUTTTT\n",
                        "epoch 2 iteration200, G Loss: 10.644046783447266, D Loss: 0.0027751740999519825, alpha: 0.9972130037809577\n",
                        "Epoch: 2, Iteration: 210\n",
                        "Epoch: 2, Iteration: 220\n",
                        "Epoch: 2, Iteration: 230\n",
                        "Epoch: 2, Iteration: 240\n",
                        "Epoch: 2, Iteration: 250\n",
                        "OUTTTT\n",
                        "Epoch: 2, Iteration: 260\n",
                        "Epoch: 2, Iteration: 270\n",
                        "Epoch: 2, Iteration: 280\n",
                        "Epoch: 2, Iteration: 290\n",
                        "Epoch: 2, Iteration: 300\n",
                        "OUTTTT\n",
                        "epoch 2 iteration300, G Loss: 5.877096652984619, D Loss: 0.00564388744533062, alpha: 0.9972130037809577\n",
                        "Epoch: 2, Iteration: 310\n"
                    ]
                },
                {
                    "ename": "KeyboardInterrupt",
                    "evalue": "",
                    "output_type": "error",
                    "traceback": [
                        "\u001b[0;31m---------------------------------------------------------------------------\u001b[0m",
                        "\u001b[0;31mKeyboardInterrupt\u001b[0m                         Traceback (most recent call last)",
                        "Cell \u001b[0;32mIn[7], line 130\u001b[0m\n\u001b[1;32m    126\u001b[0m     errG \u001b[38;5;241m=\u001b[39m errG \u001b[38;5;241m+\u001b[39m rec_loss\n\u001b[1;32m    129\u001b[0m errG\u001b[38;5;241m.\u001b[39mbackward()\n\u001b[0;32m--> 130\u001b[0m \u001b[43moptimizerG\u001b[49m\u001b[38;5;241;43m.\u001b[39;49m\u001b[43mstep\u001b[49m\u001b[43m(\u001b[49m\u001b[43m)\u001b[49m\n\u001b[1;32m    132\u001b[0m global_step \u001b[38;5;241m+\u001b[39m\u001b[38;5;241m=\u001b[39m \u001b[38;5;241m1\u001b[39m\n\u001b[1;32m    133\u001b[0m \u001b[38;5;28;01mif\u001b[39;00m iteration \u001b[38;5;241m%\u001b[39m \u001b[38;5;241m100\u001b[39m \u001b[38;5;241m==\u001b[39m \u001b[38;5;241m0\u001b[39m:\n",
                        "File \u001b[0;32m/scratch/users/std/2021/21k0005/improved-ddgan/.venv/lib/python3.10/site-packages/torch/optim/lr_scheduler.py:75\u001b[0m, in \u001b[0;36mLRScheduler.__init__.<locals>.with_counter.<locals>.wrapper\u001b[0;34m(*args, **kwargs)\u001b[0m\n\u001b[1;32m     73\u001b[0m instance\u001b[38;5;241m.\u001b[39m_step_count \u001b[38;5;241m+\u001b[39m\u001b[38;5;241m=\u001b[39m \u001b[38;5;241m1\u001b[39m\n\u001b[1;32m     74\u001b[0m wrapped \u001b[38;5;241m=\u001b[39m func\u001b[38;5;241m.\u001b[39m\u001b[38;5;21m__get__\u001b[39m(instance, \u001b[38;5;28mcls\u001b[39m)\n\u001b[0;32m---> 75\u001b[0m \u001b[38;5;28;01mreturn\u001b[39;00m \u001b[43mwrapped\u001b[49m\u001b[43m(\u001b[49m\u001b[38;5;241;43m*\u001b[39;49m\u001b[43margs\u001b[49m\u001b[43m,\u001b[49m\u001b[43m \u001b[49m\u001b[38;5;241;43m*\u001b[39;49m\u001b[38;5;241;43m*\u001b[39;49m\u001b[43mkwargs\u001b[49m\u001b[43m)\u001b[49m\n",
                        "File \u001b[0;32m/scratch/users/std/2021/21k0005/improved-ddgan/EMA.py:50\u001b[0m, in \u001b[0;36mEMA.step\u001b[0;34m(self, *args, **kwargs)\u001b[0m\n\u001b[1;32m     47\u001b[0m         params[p\u001b[38;5;241m.\u001b[39mshape] \u001b[38;5;241m=\u001b[39m {\u001b[38;5;124m'\u001b[39m\u001b[38;5;124midx\u001b[39m\u001b[38;5;124m'\u001b[39m: \u001b[38;5;241m0\u001b[39m, \u001b[38;5;124m'\u001b[39m\u001b[38;5;124mdata\u001b[39m\u001b[38;5;124m'\u001b[39m: []}\n\u001b[1;32m     48\u001b[0m         ema[p\u001b[38;5;241m.\u001b[39mshape] \u001b[38;5;241m=\u001b[39m []\n\u001b[0;32m---> 50\u001b[0m     \u001b[43mparams\u001b[49m\u001b[43m[\u001b[49m\u001b[43mp\u001b[49m\u001b[38;5;241;43m.\u001b[39;49m\u001b[43mshape\u001b[49m\u001b[43m]\u001b[49m\u001b[43m[\u001b[49m\u001b[38;5;124;43m'\u001b[39;49m\u001b[38;5;124;43mdata\u001b[39;49m\u001b[38;5;124;43m'\u001b[39;49m\u001b[43m]\u001b[49m\u001b[38;5;241;43m.\u001b[39;49m\u001b[43mappend\u001b[49m\u001b[43m(\u001b[49m\u001b[43mp\u001b[49m\u001b[38;5;241;43m.\u001b[39;49m\u001b[43mdata\u001b[49m\u001b[43m)\u001b[49m\n\u001b[1;32m     51\u001b[0m     ema[p\u001b[38;5;241m.\u001b[39mshape]\u001b[38;5;241m.\u001b[39mappend(state[\u001b[38;5;124m'\u001b[39m\u001b[38;5;124mema\u001b[39m\u001b[38;5;124m'\u001b[39m])\n\u001b[1;32m     53\u001b[0m \u001b[38;5;28;01mfor\u001b[39;00m i \u001b[38;5;129;01min\u001b[39;00m params:\n",
                        "\u001b[0;31mKeyboardInterrupt\u001b[0m: "
                    ]
                }
            ],
            "source": [
                "for epoch in range(init_epoch, args.num_epoch + 1):\n",
                "    #train_sampler.set_epoch(epoch)\n",
                "    \n",
                "    start = torch.cuda.Event(enable_timing=True)\n",
                "    end = torch.cuda.Event(enable_timing=True)\n",
                "    start.record()\n",
                "\n",
                "    start_epoch = torch.cuda.Event(enable_timing=True)\n",
                "    end_epoch = torch.cuda.Event(enable_timing=True)\n",
                "    start_epoch.record()\n",
                "    for iteration, (x, y) in enumerate(data_loader):\n",
                "        for p in netD.parameters():\n",
                "            p.requires_grad = True\n",
                "        netD.zero_grad()\n",
                "\n",
                "        for p in netG.parameters():\n",
                "            p.requires_grad = False\n",
                "\n",
                "        # sample from p(x_0)\n",
                "        x0 = x.to(device, non_blocking=True)\n",
                "\n",
                "        \"\"\"################# Change here: Encoder #################\"\"\"\n",
                "        with torch.no_grad():\n",
                "            posterior = AutoEncoder.encode(x0)\n",
                "            real_data = posterior.sample().detach()\n",
                "        #print(\"MIN:{}, MAX:{}\".format(real_data.min(), real_data.max()))\n",
                "        real_data = real_data / args.scale_factor #300.0  # [-1, 1]\n",
                "        \n",
                "        \n",
                "        #assert -1 <= real_data.min() < 0\n",
                "        #assert 0 < real_data.max() <= 1\n",
                "        \"\"\"################# End change: Encoder #################\"\"\"\n",
                "        # sample t\n",
                "        t = torch.randint(0, args.num_timesteps,\n",
                "                          (real_data.size(0),), device=device)\n",
                "        \n",
                "        if args.dataset in ['cifar10'] and args.class_conditional:\n",
                "            y = y.to(device)\n",
                "            y_emb = class_embedding(y)\n",
                "\n",
                "        x_t, x_tp1 = q_sample_pairs(coeff, real_data, t)\n",
                "        x_t.requires_grad = True\n",
                "\n",
                "        \"\"\"################# Save Sample #################\"\"\"\n",
                "        if iteration % 10 == 0:\n",
                "            print(f\"Epoch: {epoch}, Iteration: {iteration}\")\n",
                "        if iteration % 50 == 0:\n",
                "            x_t_1 = torch.randn_like(posterior.sample())\n",
                "            if args.dataset in ['cifar10'] and args.class_conditional:\n",
                "                y = torch.arange(0, 10).repeat(x_t_1.size(0)//10 + 1)[:x_t_1.size(0)].to(device)\n",
                "                y_emb = class_embedding(y)\n",
                "                fake_sample = sample_from_model(\n",
                "                    pos_coeff, netG, args.num_timesteps, x_t_1, T, args, class_emb=y_emb)\n",
                "            else:\n",
                "                fake_sample = sample_from_model(\n",
                "                    pos_coeff, netG, args.num_timesteps, x_t_1, T, args)\n",
                "            fake_sample *= args.scale_factor #300\n",
                "            with torch.no_grad():\n",
                "                fake_sample = AutoEncoder.decode(fake_sample)\n",
                "\n",
                "            #rec_data = (torch.clamp(rec_data, -1, 1) + 1) / 2\n",
                "            fake_sample = (torch.clamp(fake_sample, -1, 1) + 1) / 2  # 0-1\n",
                "            torchvision.utils.save_image(fake_sample, os.path.join(\n",
                "                exp_path, 'sample_discrete_epoch_{}.png'.format(epoch)), nrow=nrow)\n",
                "\n",
                "\n",
                "        # train with real\n",
                "        D_real = netD(x_t, t, x_tp1.detach()).view(-1)\n",
                "        errD_real = F.softplus(-D_real).mean()\n",
                "\n",
                "        errD_real.backward(retain_graph=True)\n",
                "\n",
                "        if args.lazy_reg is None:\n",
                "            grad_penalty_call(args, D_real, x_t)\n",
                "        else:\n",
                "            if global_step % args.lazy_reg == 0:\n",
                "                grad_penalty_call(args, D_real, x_t)\n",
                "\n",
                "        # train with fake\n",
                "        latent_z = torch.randn(batch_size, nz, device=device)\n",
                "        if args.dataset in ['cifar10'] and args.class_conditional:\n",
                "            x_0_predict = netG(x_tp1.detach(), t, torch.cat([latent_z, y_emb], dim=1).detach())\n",
                "        else:\n",
                "            x_0_predict = netG(x_tp1.detach(), t, latent_z)\n",
                "        x_pos_sample = sample_posterior(pos_coeff, x_0_predict, x_tp1, t)\n",
                "\n",
                "        output = netD(x_pos_sample, t, x_tp1.detach()).view(-1)\n",
                "        errD_fake = F.softplus(output).mean()\n",
                "\n",
                "        errD_fake.backward()\n",
                "\n",
                "        errD = errD_real + errD_fake\n",
                "        # Update D\n",
                "        optimizerD.step()\n",
                "\n",
                "        # update G\n",
                "        for p in netD.parameters():\n",
                "            p.requires_grad = False\n",
                "\n",
                "        for p in netG.parameters():\n",
                "            p.requires_grad = True\n",
                "        netG.zero_grad()\n",
                "\n",
                "        t = torch.randint(0, args.num_timesteps,\n",
                "                          (real_data.size(0),), device=device)\n",
                "        x_t, x_tp1 = q_sample_pairs(coeff, real_data, t)\n",
                "\n",
                "        latent_z = torch.randn(batch_size, nz, device=device)\n",
                "        if args.dataset in ['cifar10'] and args.class_conditional:\n",
                "            x_0_predict = netG(x_tp1.detach(), t, torch.cat([latent_z, y_emb], dim=1).detach())\n",
                "        else:\n",
                "            x_0_predict = netG(x_tp1.detach(), t, latent_z)\n",
                "        x_pos_sample = sample_posterior(pos_coeff, x_0_predict, x_tp1, t)\n",
                "\n",
                "        output = netD(x_pos_sample, t, x_tp1.detach()).view(-1)\n",
                "        errG = F.softplus(-output).mean()\n",
                "\n",
                "        # reconstructior loss\n",
                "        if args.sigmoid_learning and args.rec_loss:\n",
                "            ######alpha\n",
                "            rec_loss = F.l1_loss(x_0_predict, real_data)\n",
                "            errG = errG + alpha[epoch]*rec_loss\n",
                "\n",
                "        elif args.rec_loss and not args.sigmoid_learning:\n",
                "            rec_loss = F.l1_loss(x_0_predict, real_data)\n",
                "            errG = errG + rec_loss\n",
                "        \n",
                "\n",
                "        errG.backward()\n",
                "        optimizerG.step()\n",
                "\n",
                "        global_step += 1\n",
                "        if iteration % 100 == 0:\n",
                "            if rank == 0:\n",
                "                end.record()\n",
                "                torch.cuda.synchronize()\n",
                "                elapsed_time = start.elapsed_time(end)\n",
                "                if args.sigmoid_learning:\n",
                "                    print('epoch {} iteration{}, G Loss: {}, D Loss: {}, alpha: {}'.format(\n",
                "                        epoch, iteration, errG.item(), errD.item(), alpha[epoch]))\n",
                "                elif args.rec_loss:\n",
                "                    print('epoch {} iteration{}, G Loss: {}, D Loss: {}, rec_loss: {}'.format(\n",
                "                        epoch, iteration, errG.item(), errD.item(), rec_loss.item()))\n",
                "                else:   \n",
                "                    print('epoch {} iteration{}, G Loss: {}, D Loss: {}'.format(\n",
                "                        epoch, iteration, errG.item(), errD.item()))\n",
                "                wandb.log({\"G_loss_per_100iter\": errG.item(), \"D_loss_per_iter\": errD.item(), \"time_per_100iter\": elapsed_time / 1000})\n",
                "                start = torch.cuda.Event(enable_timing=True)\n",
                "                end = torch.cuda.Event(enable_timing=True)\n",
                "                start.record()\n",
                "\n",
                "    if not args.no_lr_decay:\n",
                "\n",
                "        schedulerG.step()\n",
                "        schedulerD.step()\n",
                "\n",
                "    if rank == 0:\n",
                "        end_epoch.record()\n",
                "        torch.cuda.synchronize()\n",
                "        time_per_epoch = start_epoch.elapsed_time(end_epoch)\n",
                "        wandb.log({\"G_loss\": errG.item(), \"D_loss\": errD.item(), \"alpha\": alpha[epoch], \"time_per_epoch\": time_per_epoch / 1000})\n",
                "        ########################################\n",
                "        x_t_1 = torch.randn_like(posterior.sample())\n",
                "        if args.dataset in ['cifar10'] and args.class_conditional:\n",
                "            y = torch.arange(0, 10).repeat(x_t_1.size(0)//10 + 1)[:x_t_1.size(0)].to(device)\n",
                "            y_emb = class_embedding(y)\n",
                "            fake_sample = sample_from_model(\n",
                "                pos_coeff, netG, args.num_timesteps, x_t_1, T, args, class_emb=y_emb)\n",
                "        else:\n",
                "            fake_sample = sample_from_model(\n",
                "                pos_coeff, netG, args.num_timesteps, x_t_1, T, args)\n",
                "\n",
                "        \"\"\"############## CHANGE HERE: DECODER ##############\"\"\"\n",
                "        fake_sample *= args.scale_factor #300\n",
                "        real_data *= args.scale_factor #300\n",
                "        with torch.no_grad():\n",
                "            fake_sample = AutoEncoder.decode(fake_sample)\n",
                "            real_data = AutoEncoder.decode(real_data)\n",
                "        \n",
                "        fake_sample = (torch.clamp(fake_sample, -1, 1) + 1) / 2  # 0-1\n",
                "        real_data = (torch.clamp(real_data, -1, 1) + 1) / 2  # 0-1 \n",
                "        \n",
                "        \"\"\"############## END HERE: DECODER ##############\"\"\"\n",
                "\n",
                "        torchvision.utils.save_image(fake_sample, os.path.join(\n",
                "            exp_path, 'sample_discrete_epoch_{}.png'.format(epoch)), nrow=nrow)\n",
                "        torchvision.utils.save_image(\n",
                "            real_data, os.path.join(exp_path, 'real_data.png'),nrow=nrow)\n",
                "\n",
                "        if args.save_content:\n",
                "            if epoch % args.save_content_every == 0:\n",
                "                print('Saving content.')\n",
                "                content = {'epoch': epoch + 1, 'global_step': global_step, 'args': args,\n",
                "                           'netG_dict': netG.state_dict(), 'optimizerG': optimizerG.state_dict(),\n",
                "                           'schedulerG': schedulerG.state_dict(), 'netD_dict': netD.state_dict(),\n",
                "                           'optimizerD': optimizerD.state_dict(), 'schedulerD': schedulerD.state_dict()}\n",
                "                torch.save(content, os.path.join(exp_path, 'content.pth'))\n",
                "\n",
                "        if epoch % args.save_ckpt_every == 0:\n",
                "            if args.use_ema:\n",
                "                optimizerG.swap_parameters_with_ema(\n",
                "                    store_params_in_ema=True)\n",
                "\n",
                "            torch.save(netG.state_dict(), os.path.join(\n",
                "                exp_path, 'netG_{}.pth'.format(epoch)))\n",
                "            if args.use_ema:\n",
                "                optimizerG.swap_parameters_with_ema(\n",
                "                    store_params_in_ema=True)\n"
            ]
        },
        {
            "cell_type": "markdown",
            "id": "e342c7e2-ae35-44ac-b07f-3f74c297984a",
            "metadata": {},
            "source": [
                "## show image"
            ]
        },
        {
            "cell_type": "code",
            "execution_count": 14,
            "id": "047ed4a8-a919-4dea-ac2a-e4ee3734afd3",
            "metadata": {},
            "outputs": [],
            "source": [
                "from PIL import Image"
            ]
        },
        {
            "cell_type": "code",
            "execution_count": 15,
            "id": "a31f6242-893d-4255-8cd6-f2127946b75f",
            "metadata": {},
            "outputs": [],
            "source": [
                "tmp = iter(data_loader)\n",
                "x, y = next(tmp)"
            ]
        },
        {
            "cell_type": "code",
            "execution_count": 16,
            "id": "00c27efc-dd2b-49e6-b27b-987e63e60eae",
            "metadata": {},
            "outputs": [
                {
                    "data": {
                        "text/plain": [
                            "(torch.Size([32, 3, 32, 32]),\n",
                            " tensor([6, 9, 9, 4, 1, 1, 2, 7, 8, 3, 4, 7, 7, 2, 9, 9, 9, 3, 2, 6, 4, 3, 6, 6,\n",
                            "         2, 6, 3, 5, 4, 0, 0, 9]))"
                        ]
                    },
                    "execution_count": 16,
                    "metadata": {},
                    "output_type": "execute_result"
                }
            ],
            "source": [
                "x.shape, y"
            ]
        },
        {
            "cell_type": "code",
            "execution_count": 17,
            "id": "9bf6a6fa-e845-4250-8112-21536fb156c6",
            "metadata": {},
            "outputs": [
                {
                    "data": {
                        "image/png": "[encoded data removed]",
                        "text/plain": [
                            "<Figure size 640x480 with 1 Axes>"
                        ]
                    },
                    "metadata": {},
                    "output_type": "display_data"
                }
            ],
            "source": [
                "import matplotlib.pyplot as plt\n",
                "from torchvision import transforms\n",
                "img = transforms.ToPILImage(mode=\"RGB\")(x[0])\n",
                "plt.imshow(img)\n",
                "plt.show()"
            ]
        },
        {
            "cell_type": "code",
            "execution_count": 19,
            "id": "0e3a20f7-9437-4290-bae8-b5cc8f2b9489",
            "metadata": {},
            "outputs": [
                {
                    "data": {
                        "image/png": "[encoded data removed]",
                        "text/plain": [
                            "<Figure size 640x480 with 1 Axes>"
                        ]
                    },
                    "metadata": {},
                    "output_type": "display_data"
                }
            ],
            "source": [
                "real_data = (torch.clamp(x[0], -1, 1) + 1) / 2\n",
                "img = transforms.ToPILImage(mode=\"RGB\")(real_data)\n",
                "plt.imshow(img)\n",
                "plt.show()"
            ]
        },
        {
            "cell_type": "code",
            "execution_count": null,
            "id": "8ba87163-541e-4449-8315-2164e3e3db70",
            "metadata": {},
            "outputs": [],
            "source": [
                "real_data = (torch.clamp(x[3], -1, 1) + 1) / 2  # 0-1 \n",
                "\n",
                "torchvision.utils.save_image(\n",
                "    real_data, os.path.join(\"./\", 'real_data.png'))\n",
                "imgPIL = Image.open(\"./real_data.png\")  # 画像読み込み\n",
                "\n",
                "print(y[3])\n",
                "imgPIL.show()  # 画像表示"
            ]
        },
        {
            "cell_type": "code",
            "execution_count": null,
            "id": "5bc75d17",
            "metadata": {
                "scrolled": true
            },
            "outputs": [],
            "source": [
                "from ldm.util import instantiate_from_config\n",
                "config_path = \"./autoencoder/config/kl-f2.yaml\"\n",
                "ckpt_path = \"./autoencoder/weight/kl-f2.ckpt\"\n",
                "with open(config_path, 'r') as file:\n",
                "    config = yaml.safe_load(file)\n",
                "\n",
                "AutoEncoder2 = instantiate_from_config(config['model'])\n",
                "\n",
                "\n",
                "checkpoint = torch.load(ckpt_path, map_location=device)\n",
                "AutoEncoder2.load_state_dict(checkpoint['state_dict'])\n",
                "AutoEncoder2.eval()\n",
                "AutoEncoder2.to(device)"
            ]
        },
        {
            "cell_type": "code",
            "execution_count": null,
            "id": "b3ead0d8",
            "metadata": {},
            "outputs": [],
            "source": [
                "torch.cuda.empty_cache()"
            ]
        },
        {
            "cell_type": "code",
            "execution_count": null,
            "id": "42f202ff",
            "metadata": {},
            "outputs": [],
            "source": [
                "x0 = x.to(device)\n",
                "print(x0.shape)\n",
                "with torch.no_grad():\n",
                "    posterior = AutoEncoder.encode(x0)\n",
                "    real_data = posterior.detach()\n",
                "print(real_data.shape)"
            ]
        },
        {
            "cell_type": "code",
            "execution_count": null,
            "id": "da18b692",
            "metadata": {},
            "outputs": [],
            "source": [
                "x0 = x.to(device)\n",
                "with torch.no_grad():\n",
                "    posterior = AutoEncoder2.encode(x0)\n",
                "    real_data = posterior.sample().detach()\n",
                "print(real_data.shape)"
            ]
        },
        {
            "cell_type": "code",
            "execution_count": null,
            "id": "bc121430-0a8d-4363-aa6e-4f131c30bf61",
            "metadata": {},
            "outputs": [],
            "source": []
        }
    ],
    "metadata": {
        "kernelspec": {
            "display_name": "venv",
            "language": "python",
            "name": "venv"
        },
        "language_info": {
            "codemirror_mode": {
                "name": "ipython",
                "version": 3
            },
            "file_extension": ".py",
            "mimetype": "text/x-python",
            "name": "python",
            "nbconvert_exporter": "python",
            "pygments_lexer": "ipython3",
            "version": "3.10.14"
        }
    },
    "nbformat": 4,
    "nbformat_minor": 5
}